{
 "cells": [
  {
   "cell_type": "markdown",
   "id": "3f560b33",
   "metadata": {},
   "source": [
    "## Step 1: Setup and Imports"
   ]
  },
  {
   "cell_type": "code",
   "execution_count": 71,
   "id": "73f9cfe1",
   "metadata": {},
   "outputs": [],
   "source": [
    "# Import packages\n",
    "import os\n",
    "import zipfile\n",
    "import subprocess\n",
    "import random\n",
    "import pandas as pd\n",
    "import numpy as np\n",
    "import matplotlib.pyplot as plt\n",
    "import shutil\n",
    "from tqdm import tqdm\n",
    "\n",
    "\n",
    "from Bio import SeqIO\n",
    "from collections import Counter\n",
    "from xgboost import XGBClassifier\n",
    "from xgboost import plot_importance\n",
    "from lightgbm import LGBMClassifier\n",
    "\n",
    "from sklearn.ensemble import RandomForestClassifier, ExtraTreesClassifier\n",
    "from sklearn.model_selection import train_test_split, StratifiedKFold\n",
    "from sklearn.feature_selection import mutual_info_classif\n",
    "from sklearn.preprocessing import LabelEncoder\n",
    "from sklearn.metrics import classification_report, accuracy_score, log_loss\n",
    "\n",
    "# Errors ignore\n",
    "import warnings\n",
    "warnings.filterwarnings('ignore')"
   ]
  },
  {
   "cell_type": "markdown",
   "id": "a19f36e3",
   "metadata": {},
   "source": [
    "## Step 2: Load Metadata"
   ]
  },
  {
   "cell_type": "code",
   "execution_count": 2,
   "id": "4855b711",
   "metadata": {},
   "outputs": [],
   "source": [
    "train_df = pd.read_csv(\"Train.csv\")\n",
    "test_df = pd.read_csv(\"Test.csv\")\n",
    "train_subjects_df = pd.read_csv(\"Train_Subjects.csv\")\n",
    "submission = pd.read_csv(\"SampleSubmission.csv\")"
   ]
  },
  {
   "cell_type": "markdown",
   "id": "9584ab27",
   "metadata": {},
   "source": [
    "## Step 3: Data Exploration"
   ]
  },
  {
   "cell_type": "code",
   "execution_count": 5,
   "id": "f0127670",
   "metadata": {},
   "outputs": [
    {
     "name": "stdout",
     "output_type": "stream",
     "text": [
      "Train dataframe shape:  (2901, 4)\n",
      "Test dataframe shape:  (1068, 1)\n",
      "Train subjects dataframe shape:  (66, 17)\n",
      "        filename SampleType       SubjectID       SampleID\n",
      "0  ID_LETPJN.mgb      Stool  Subject_BCUNIB  Sample_AFTIWE\n",
      "1  ID_NTDGIW.mgb      Stool  Subject_UDAXIH  Sample_JQJVNK\n",
      "2  ID_ZISBMF.mgb      Nasal  Subject_VRKADI  Sample_YJWGWW\n",
      "3  ID_MDCVXU.mgb      Nasal  Subject_HIFZWD  Sample_VKEHZP\n",
      "4  ID_SWAMNY.mgb      Stool  Subject_VGLNCV  Sample_NTDTEQ\n",
      "CPU times: total: 15.6 ms\n",
      "Wall time: 23.3 ms\n"
     ]
    }
   ],
   "source": [
    "%%time\n",
    "\n",
    "print(\"Train dataframe shape: \", train_df.shape)\n",
    "print(\"Test dataframe shape: \", test_df.shape)\n",
    "print(\"Train subjects dataframe shape: \", train_subjects_df.shape)\n",
    "print(train_df.head())"
   ]
  },
  {
   "cell_type": "code",
   "execution_count": 8,
   "id": "d234c938",
   "metadata": {},
   "outputs": [
    {
     "name": "stdout",
     "output_type": "stream",
     "text": [
      "Missing fastq files for 0 train enteries\n"
     ]
    }
   ],
   "source": [
    "# Check for missing Fastq files\n",
    "\n",
    "fastq_files = os.listdir(os.getcwd() + \"/FastqTrain\")\n",
    "train_fastq_ids = set(f.replace(\".fastq\", \"\") for f in fastq_files)\n",
    "\n",
    "train_df['filename'] = train_df['filename'].str.replace(\".mgb\", \"\", regex=False)\n",
    "\n",
    "missing_files = set(train_df['filename']) - train_fastq_ids\n",
    "print(f\"Missing fastq files for {len(missing_files)} train enteries\")"
   ]
  },
  {
   "cell_type": "code",
   "execution_count": null,
   "id": "a515c724",
   "metadata": {},
   "outputs": [
    {
     "name": "stdout",
     "output_type": "stream",
     "text": [
      "Unique Sample Types: ['Stool' 'Nasal' 'Mouth' 'Skin']\n",
      "Samples per Subject:\n",
      " SubjectID\n",
      "Subject_UDAXIH    441\n",
      "Subject_HBHSCC    159\n",
      "Subject_CHDMIO    138\n",
      "Subject_ASRHSH    111\n",
      "Subject_VGLNCV    105\n",
      "                 ... \n",
      "Subject_AYZFWN      6\n",
      "Subject_VNLNNO      5\n",
      "Subject_CBVHYJ      5\n",
      "Subject_TGELYF      3\n",
      "Subject_KIEGYK      1\n",
      "Name: count, Length: 66, dtype: int64\n"
     ]
    },
    {
     "data": {
      "image/png": "[encoded data removed]",
      "text/plain": [
       "<Figure size 640x480 with 1 Axes>"
      ]
     },
     "metadata": {},
     "output_type": "display_data"
    }
   ],
   "source": [
    "print(\"Unique Sample Types:\", train_df['SampleType'].unique())\n",
    "print(\"Samples per Subject:\\n\", train_df['SubjectID'].value_counts().head())\n",
    "\n",
    "# View Distribution of sample types\n",
    "train_df[\"SampleType\"].value_counts().plot(kind='bar', title='Class Distribution')\n",
    "plt.show()"
   ]
  },
  {
   "cell_type": "markdown",
   "id": "17f0d827",
   "metadata": {},
   "source": [
    "## Step 4: Feature Extraction"
   ]
  },
  {
   "cell_type": "code",
   "execution_count": 9,
   "id": "cfd5627f",
   "metadata": {},
   "outputs": [],
   "source": [
    "def extract_kmers(seq, k):\n",
    "    return [seq[i:i+k] for i in range(len(seq) - k + 1)]\n",
    "\n",
    "def extract_features_from_fastq(path, k=3):\n",
    "    read_lengths = []\n",
    "    gc_counts = []\n",
    "    nt_counter = Counter()\n",
    "    kmer_counter = Counter()\n",
    "\n",
    "    for record in SeqIO.parse(path, \"fastq\"):\n",
    "        seq = str(record.seq)\n",
    "        read_lengths.append(len(seq))\n",
    "        gc_counts.append(seq.count(\"G\") + seq.count(\"C\"))\n",
    "        nt_counter.update(seq)\n",
    "        kmer_counter.update(extract_kmers(seq, k))\n",
    "\n",
    "    if not read_lengths:\n",
    "        return None\n",
    "\n",
    "    total_len = sum(read_lengths)\n",
    "    total_kmers = sum(kmer_counter.values())\n",
    "    kmer_freqs = {f'kmer_{kmer}': count / total_kmers for kmer, count in kmer_counter.items()}\n",
    "\n",
    "    return {\n",
    "        \"num_reads\": len(read_lengths),\n",
    "        \"avg_read_len\": total_len / len(read_lengths),\n",
    "        \"gc_content\": sum(gc_counts) / total_len,\n",
    "        \"A\": nt_counter[\"A\"] / total_len,\n",
    "        \"T\": nt_counter[\"T\"] / total_len,\n",
    "        \"G\": nt_counter[\"G\"] / total_len,\n",
    "        \"C\": nt_counter[\"C\"] / total_len,\n",
    "        **kmer_freqs\n",
    "    }\n"
   ]
  },
  {
   "cell_type": "markdown",
   "id": "5e704722",
   "metadata": {},
   "source": [
    "## Step 5: Process Training Files"
   ]
  },
  {
   "cell_type": "code",
   "execution_count": 34,
   "id": "05545dbe",
   "metadata": {},
   "outputs": [
    {
     "name": "stdout",
     "output_type": "stream",
     "text": [
      "✅ Resuming from 2261 previously processed files.\n"
     ]
    },
    {
     "name": "stderr",
     "output_type": "stream",
     "text": [
      "Processing Files..:  79%|███████▉  | 2298/2901 [23:03<2:11:52, 13.12s/it]  "
     ]
    },
    {
     "name": "stdout",
     "output_type": "stream",
     "text": [
      "💾 Progress saved: 2300 rows\n"
     ]
    },
    {
     "name": "stderr",
     "output_type": "stream",
     "text": [
      "Processing Files..:  81%|████████  | 2350/2901 [43:53<3:52:58, 25.37s/it]"
     ]
    },
    {
     "name": "stdout",
     "output_type": "stream",
     "text": [
      "💾 Progress saved: 2350 rows\n"
     ]
    },
    {
     "name": "stderr",
     "output_type": "stream",
     "text": [
      "Processing Files..:  83%|████████▎ | 2400/2901 [1:13:07<1:44:10, 12.48s/it]  "
     ]
    },
    {
     "name": "stdout",
     "output_type": "stream",
     "text": [
      "💾 Progress saved: 2400 rows\n"
     ]
    },
    {
     "name": "stderr",
     "output_type": "stream",
     "text": [
      "Processing Files..:  84%|████████▍ | 2450/2901 [1:26:33<2:50:39, 22.70s/it]"
     ]
    },
    {
     "name": "stdout",
     "output_type": "stream",
     "text": [
      "💾 Progress saved: 2450 rows\n"
     ]
    },
    {
     "name": "stderr",
     "output_type": "stream",
     "text": [
      "Processing Files..:  86%|████████▌ | 2500/2901 [2:01:24<7:30:47, 67.45s/it]  "
     ]
    },
    {
     "name": "stdout",
     "output_type": "stream",
     "text": [
      "💾 Progress saved: 2500 rows\n"
     ]
    },
    {
     "name": "stderr",
     "output_type": "stream",
     "text": [
      "Processing Files..:  88%|████████▊ | 2550/2901 [2:16:03<41:43,  7.13s/it]  "
     ]
    },
    {
     "name": "stdout",
     "output_type": "stream",
     "text": [
      "💾 Progress saved: 2550 rows\n"
     ]
    },
    {
     "name": "stderr",
     "output_type": "stream",
     "text": [
      "Processing Files..:  90%|████████▉ | 2600/2901 [2:26:50<32:03,  6.39s/it]  "
     ]
    },
    {
     "name": "stdout",
     "output_type": "stream",
     "text": [
      "💾 Progress saved: 2600 rows\n"
     ]
    },
    {
     "name": "stderr",
     "output_type": "stream",
     "text": [
      "Processing Files..:  91%|█████████▏| 2650/2901 [2:39:05<52:16, 12.50s/it]  "
     ]
    },
    {
     "name": "stdout",
     "output_type": "stream",
     "text": [
      "💾 Progress saved: 2650 rows\n"
     ]
    },
    {
     "name": "stderr",
     "output_type": "stream",
     "text": [
      "Processing Files..:  93%|█████████▎| 2700/2901 [2:51:34<1:16:52, 22.95s/it]"
     ]
    },
    {
     "name": "stdout",
     "output_type": "stream",
     "text": [
      "💾 Progress saved: 2700 rows\n"
     ]
    },
    {
     "name": "stderr",
     "output_type": "stream",
     "text": [
      "Processing Files..:  95%|█████████▍| 2750/2901 [3:04:01<38:42, 15.38s/it]  "
     ]
    },
    {
     "name": "stdout",
     "output_type": "stream",
     "text": [
      "💾 Progress saved: 2750 rows\n"
     ]
    },
    {
     "name": "stderr",
     "output_type": "stream",
     "text": [
      "Processing Files..:  97%|█████████▋| 2800/2901 [3:12:13<09:01,  5.36s/it]"
     ]
    },
    {
     "name": "stdout",
     "output_type": "stream",
     "text": [
      "💾 Progress saved: 2800 rows\n"
     ]
    },
    {
     "name": "stderr",
     "output_type": "stream",
     "text": [
      "Processing Files..:  98%|█████████▊| 2850/2901 [3:25:12<14:10, 16.68s/it]"
     ]
    },
    {
     "name": "stdout",
     "output_type": "stream",
     "text": [
      "💾 Progress saved: 2850 rows\n"
     ]
    },
    {
     "name": "stderr",
     "output_type": "stream",
     "text": [
      "Processing Files..: 100%|█████████▉| 2900/2901 [3:38:59<00:23, 23.86s/it]"
     ]
    },
    {
     "name": "stdout",
     "output_type": "stream",
     "text": [
      "💾 Progress saved: 2900 rows\n"
     ]
    },
    {
     "name": "stderr",
     "output_type": "stream",
     "text": [
      "Processing Files..: 100%|██████████| 2901/2901 [3:39:30<00:00,  4.54s/it]\n"
     ]
    },
    {
     "name": "stdout",
     "output_type": "stream",
     "text": [
      "✅ Feature extraction complete and saved.\n"
     ]
    }
   ],
   "source": [
    "train_dir = os.path.join(os.getcwd(), \"FastqTrain\")\n",
    "output_csv = \"full_train.csv\"\n",
    "\n",
    "# Load previously saved features (if resuming)\n",
    "train_features = []\n",
    "if os.path.exists(output_csv):\n",
    "    df_existing = pd.read_csv(output_csv)\n",
    "    train_features = df_existing.to_dict(\"records\")\n",
    "    print(f\"✅ Resuming from {len(train_features)} previously processed files.\")\n",
    "\n",
    "processed_files = set(f[\"filename\"] for f in train_features)\n",
    "\n",
    "# Begin loop\n",
    "for i, (_, row) in enumerate(tqdm(train_df.iterrows(), total=len(train_df), desc=\"Processing Files..\")):\n",
    "    filename_base = row[\"filename\"].replace(\".mgb\", \"\").strip()\n",
    "    if filename_base in processed_files:\n",
    "        continue\n",
    "\n",
    "    \n",
    "    filename = filename_base + \".fastq\"\n",
    "    fpath = os.path.join(train_dir, filename)\n",
    "\n",
    "    if not os.path.exists(fpath):\n",
    "        print(f\"⚠️ File not found: {fpath}\")\n",
    "        continue\n",
    "\n",
    "    features = extract_features_from_fastq(fpath, k=3)\n",
    "    if features:\n",
    "        features[\"filename\"] = row[\"filename\"]\n",
    "        features[\"label\"] = row[\"SampleType\"]\n",
    "        train_features.append(features)\n",
    "\n",
    "    # 🔁 Save every 50 files\n",
    "    if len(train_features) % 50 == 0:\n",
    "        pd.DataFrame(train_features).to_csv(output_csv, index=False)\n",
    "        print(f\"💾 Progress saved: {len(train_features)} rows\")\n",
    "\n",
    "# Final save\n",
    "pd.DataFrame(train_features).to_csv(output_csv, index=False)\n",
    "print(\"✅ Feature extraction complete and saved.\")"
   ]
  },
  {
   "cell_type": "code",
   "execution_count": 36,
   "id": "af8cdffd",
   "metadata": {},
   "outputs": [
    {
     "data": {
      "text/html": [
       "<div>\n",
       "<style scoped>\n",
       "    .dataframe tbody tr th:only-of-type {\n",
       "        vertical-align: middle;\n",
       "    }\n",
       "\n",
       "    .dataframe tbody tr th {\n",
       "        vertical-align: top;\n",
       "    }\n",
       "\n",
       "    .dataframe thead th {\n",
       "        text-align: right;\n",
       "    }\n",
       "</style>\n",
       "<table border=\"1\" class=\"dataframe\">\n",
       "  <thead>\n",
       "    <tr style=\"text-align: right;\">\n",
       "      <th></th>\n",
       "      <th>num_reads</th>\n",
       "      <th>avg_read_len</th>\n",
       "      <th>gc_content</th>\n",
       "      <th>A</th>\n",
       "      <th>T</th>\n",
       "      <th>G</th>\n",
       "      <th>C</th>\n",
       "      <th>kmer_GGA</th>\n",
       "      <th>kmer_GAT</th>\n",
       "      <th>kmer_ATG</th>\n",
       "      <th>...</th>\n",
       "      <th>kmer_AAT</th>\n",
       "      <th>kmer_TCT</th>\n",
       "      <th>kmer_CTC</th>\n",
       "      <th>kmer_ATT</th>\n",
       "      <th>kmer_TGT</th>\n",
       "      <th>kmer_GTT</th>\n",
       "      <th>kmer_TCA</th>\n",
       "      <th>kmer_TTC</th>\n",
       "      <th>filename</th>\n",
       "      <th>label</th>\n",
       "    </tr>\n",
       "  </thead>\n",
       "  <tbody>\n",
       "    <tr>\n",
       "      <th>0</th>\n",
       "      <td>21599</td>\n",
       "      <td>400.0</td>\n",
       "      <td>0.528146</td>\n",
       "      <td>0.279865</td>\n",
       "      <td>0.191989</td>\n",
       "      <td>0.305681</td>\n",
       "      <td>0.222465</td>\n",
       "      <td>0.026204</td>\n",
       "      <td>0.026770</td>\n",
       "      <td>0.019927</td>\n",
       "      <td>...</td>\n",
       "      <td>0.010701</td>\n",
       "      <td>0.011834</td>\n",
       "      <td>0.006010</td>\n",
       "      <td>0.013776</td>\n",
       "      <td>0.002722</td>\n",
       "      <td>0.006606</td>\n",
       "      <td>0.005627</td>\n",
       "      <td>0.005824</td>\n",
       "      <td>ID_LETPJN</td>\n",
       "      <td>Stool</td>\n",
       "    </tr>\n",
       "    <tr>\n",
       "      <th>1</th>\n",
       "      <td>20295</td>\n",
       "      <td>400.0</td>\n",
       "      <td>0.535742</td>\n",
       "      <td>0.268719</td>\n",
       "      <td>0.195539</td>\n",
       "      <td>0.314609</td>\n",
       "      <td>0.221133</td>\n",
       "      <td>0.025630</td>\n",
       "      <td>0.023874</td>\n",
       "      <td>0.022925</td>\n",
       "      <td>...</td>\n",
       "      <td>0.010015</td>\n",
       "      <td>0.006595</td>\n",
       "      <td>0.006637</td>\n",
       "      <td>0.014765</td>\n",
       "      <td>0.003153</td>\n",
       "      <td>0.009429</td>\n",
       "      <td>0.005155</td>\n",
       "      <td>0.008712</td>\n",
       "      <td>ID_NTDGIW</td>\n",
       "      <td>Stool</td>\n",
       "    </tr>\n",
       "    <tr>\n",
       "      <th>2</th>\n",
       "      <td>16449</td>\n",
       "      <td>400.0</td>\n",
       "      <td>0.551703</td>\n",
       "      <td>0.249779</td>\n",
       "      <td>0.198518</td>\n",
       "      <td>0.330586</td>\n",
       "      <td>0.221118</td>\n",
       "      <td>0.029535</td>\n",
       "      <td>0.020455</td>\n",
       "      <td>0.017627</td>\n",
       "      <td>...</td>\n",
       "      <td>0.012303</td>\n",
       "      <td>0.005564</td>\n",
       "      <td>0.008142</td>\n",
       "      <td>0.007227</td>\n",
       "      <td>0.006012</td>\n",
       "      <td>0.009209</td>\n",
       "      <td>0.004913</td>\n",
       "      <td>0.006815</td>\n",
       "      <td>ID_ZISBMF</td>\n",
       "      <td>Nasal</td>\n",
       "    </tr>\n",
       "    <tr>\n",
       "      <th>3</th>\n",
       "      <td>36965</td>\n",
       "      <td>400.0</td>\n",
       "      <td>0.545204</td>\n",
       "      <td>0.253585</td>\n",
       "      <td>0.201211</td>\n",
       "      <td>0.324064</td>\n",
       "      <td>0.221141</td>\n",
       "      <td>0.029429</td>\n",
       "      <td>0.022367</td>\n",
       "      <td>0.018166</td>\n",
       "      <td>...</td>\n",
       "      <td>0.011701</td>\n",
       "      <td>0.010337</td>\n",
       "      <td>0.005967</td>\n",
       "      <td>0.005237</td>\n",
       "      <td>0.007862</td>\n",
       "      <td>0.008219</td>\n",
       "      <td>0.004289</td>\n",
       "      <td>0.009077</td>\n",
       "      <td>ID_MDCVXU</td>\n",
       "      <td>Nasal</td>\n",
       "    </tr>\n",
       "    <tr>\n",
       "      <th>4</th>\n",
       "      <td>40236</td>\n",
       "      <td>400.0</td>\n",
       "      <td>0.537097</td>\n",
       "      <td>0.267547</td>\n",
       "      <td>0.195356</td>\n",
       "      <td>0.312494</td>\n",
       "      <td>0.224603</td>\n",
       "      <td>0.026121</td>\n",
       "      <td>0.024074</td>\n",
       "      <td>0.024539</td>\n",
       "      <td>...</td>\n",
       "      <td>0.010222</td>\n",
       "      <td>0.008023</td>\n",
       "      <td>0.006160</td>\n",
       "      <td>0.014174</td>\n",
       "      <td>0.003382</td>\n",
       "      <td>0.009457</td>\n",
       "      <td>0.005427</td>\n",
       "      <td>0.010273</td>\n",
       "      <td>ID_SWAMNY</td>\n",
       "      <td>Stool</td>\n",
       "    </tr>\n",
       "  </tbody>\n",
       "</table>\n",
       "<p>5 rows × 73 columns</p>\n",
       "</div>"
      ],
      "text/plain": [
       "   num_reads  avg_read_len  gc_content         A         T         G  \\\n",
       "0      21599         400.0    0.528146  0.279865  0.191989  0.305681   \n",
       "1      20295         400.0    0.535742  0.268719  0.195539  0.314609   \n",
       "2      16449         400.0    0.551703  0.249779  0.198518  0.330586   \n",
       "3      36965         400.0    0.545204  0.253585  0.201211  0.324064   \n",
       "4      40236         400.0    0.537097  0.267547  0.195356  0.312494   \n",
       "\n",
       "          C  kmer_GGA  kmer_GAT  kmer_ATG  ...  kmer_AAT  kmer_TCT  kmer_CTC  \\\n",
       "0  0.222465  0.026204  0.026770  0.019927  ...  0.010701  0.011834  0.006010   \n",
       "1  0.221133  0.025630  0.023874  0.022925  ...  0.010015  0.006595  0.006637   \n",
       "2  0.221118  0.029535  0.020455  0.017627  ...  0.012303  0.005564  0.008142   \n",
       "3  0.221141  0.029429  0.022367  0.018166  ...  0.011701  0.010337  0.005967   \n",
       "4  0.224603  0.026121  0.024074  0.024539  ...  0.010222  0.008023  0.006160   \n",
       "\n",
       "   kmer_ATT  kmer_TGT  kmer_GTT  kmer_TCA  kmer_TTC   filename  label  \n",
       "0  0.013776  0.002722  0.006606  0.005627  0.005824  ID_LETPJN  Stool  \n",
       "1  0.014765  0.003153  0.009429  0.005155  0.008712  ID_NTDGIW  Stool  \n",
       "2  0.007227  0.006012  0.009209  0.004913  0.006815  ID_ZISBMF  Nasal  \n",
       "3  0.005237  0.007862  0.008219  0.004289  0.009077  ID_MDCVXU  Nasal  \n",
       "4  0.014174  0.003382  0.009457  0.005427  0.010273  ID_SWAMNY  Stool  \n",
       "\n",
       "[5 rows x 73 columns]"
      ]
     },
     "execution_count": 36,
     "metadata": {},
     "output_type": "execute_result"
    }
   ],
   "source": [
    "df_train = pd.read_csv(\"full_train.csv\")\n",
    "df_train.head()"
   ]
  },
  {
   "cell_type": "code",
   "execution_count": 67,
   "id": "6922b0f9",
   "metadata": {},
   "outputs": [
    {
     "data": {
      "text/plain": [
       "kmer_TCC    1.146117\n",
       "kmer_CGG    1.134821\n",
       "kmer_CAA    1.096368\n",
       "kmer_ACA    1.090035\n",
       "kmer_CTC    1.082643\n",
       "kmer_GCA    1.070836\n",
       "kmer_ATG    1.057507\n",
       "kmer_GGA    1.049429\n",
       "kmer_CGA    1.025611\n",
       "kmer_ATT    1.015611\n",
       "dtype: float64"
      ]
     },
     "execution_count": 67,
     "metadata": {},
     "output_type": "execute_result"
    }
   ],
   "source": [
    "\n",
    "N = 10\n",
    "X_kmers = df_train.filter(regex=\"^kmer\")  # select only k-mer columns\n",
    "y_kmers = df_train[\"label_enc\"]  # or \"label\"\n",
    "\n",
    "mi_scores = mutual_info_classif(X_kmers, y_kmers, discrete_features=False)\n",
    "mi_df = pd.Series(mi_scores, index=X_kmers.columns).sort_values(ascending=False)\n",
    "top_kmers = mi_df.head(N)\n",
    "top_kmers\n"
   ]
  },
  {
   "cell_type": "markdown",
   "id": "91a670f4",
   "metadata": {},
   "source": [
    "## Step 6: Label Encoding"
   ]
  },
  {
   "cell_type": "code",
   "execution_count": 37,
   "id": "35a3a56b",
   "metadata": {},
   "outputs": [],
   "source": [
    "\n",
    "le = LabelEncoder()\n",
    "df_train[\"label_enc\"] = le.fit_transform(df_train[\"label\"])"
   ]
  },
  {
   "cell_type": "markdown",
   "id": "250eb7da",
   "metadata": {},
   "source": [
    "## Step 7: Train/Test Split and Modeling"
   ]
  },
  {
   "cell_type": "code",
   "execution_count": null,
   "id": "5f8050f8",
   "metadata": {},
   "outputs": [
    {
     "name": "stdout",
     "output_type": "stream",
     "text": [
      "\n",
      " Fold 1\n",
      "✅ Fold 1 Accuracy: 0.9914\n",
      "📉 Fold 1 Log Loss: 0.0353\n",
      "              precision    recall  f1-score   support\n",
      "\n",
      "       Mouth       0.98      0.98      0.98       118\n",
      "       Nasal       1.00      0.99      1.00       142\n",
      "        Skin       0.99      0.99      0.99       158\n",
      "       Stool       0.99      1.00      1.00       163\n",
      "\n",
      "    accuracy                           0.99       581\n",
      "   macro avg       0.99      0.99      0.99       581\n",
      "weighted avg       0.99      0.99      0.99       581\n",
      "\n",
      "\n",
      " Fold 2\n",
      "✅ Fold 2 Accuracy: 0.9931\n",
      "📉 Fold 2 Log Loss: 0.0301\n",
      "              precision    recall  f1-score   support\n",
      "\n",
      "       Mouth       0.99      0.99      0.99       119\n",
      "       Nasal       1.00      0.99      0.99       142\n",
      "        Skin       0.99      0.99      0.99       157\n",
      "       Stool       0.99      1.00      0.99       162\n",
      "\n",
      "    accuracy                           0.99       580\n",
      "   macro avg       0.99      0.99      0.99       580\n",
      "weighted avg       0.99      0.99      0.99       580\n",
      "\n",
      "\n",
      " Fold 3\n",
      "✅ Fold 3 Accuracy: 0.9828\n",
      "📉 Fold 3 Log Loss: 0.0905\n",
      "              precision    recall  f1-score   support\n",
      "\n",
      "       Mouth       0.96      0.97      0.97       119\n",
      "       Nasal       0.99      0.99      0.99       142\n",
      "        Skin       0.98      0.97      0.97       157\n",
      "       Stool       0.99      0.99      0.99       162\n",
      "\n",
      "    accuracy                           0.98       580\n",
      "   macro avg       0.98      0.98      0.98       580\n",
      "weighted avg       0.98      0.98      0.98       580\n",
      "\n",
      "\n",
      " Fold 4\n",
      "✅ Fold 4 Accuracy: 0.9897\n",
      "📉 Fold 4 Log Loss: 0.0399\n",
      "              precision    recall  f1-score   support\n",
      "\n",
      "       Mouth       0.97      0.98      0.98       119\n",
      "       Nasal       0.99      1.00      1.00       142\n",
      "        Skin       0.99      0.98      0.98       157\n",
      "       Stool       1.00      0.99      1.00       162\n",
      "\n",
      "    accuracy                           0.99       580\n",
      "   macro avg       0.99      0.99      0.99       580\n",
      "weighted avg       0.99      0.99      0.99       580\n",
      "\n",
      "\n",
      " Fold 5\n",
      "✅ Fold 5 Accuracy: 0.9931\n",
      "📉 Fold 5 Log Loss: 0.0253\n",
      "              precision    recall  f1-score   support\n",
      "\n",
      "       Mouth       0.98      0.98      0.98       118\n",
      "       Nasal       1.00      1.00      1.00       142\n",
      "        Skin       0.99      0.99      0.99       158\n",
      "       Stool       1.00      1.00      1.00       162\n",
      "\n",
      "    accuracy                           0.99       580\n",
      "   macro avg       0.99      0.99      0.99       580\n",
      "weighted avg       0.99      0.99      0.99       580\n",
      "\n",
      "\n",
      "📊 Average Accuracy: 0.9900\n",
      "📉 Average Log Loss: 0.0442\n"
     ]
    }
   ],
   "source": [
    "X = df_train[[\"num_reads\", \"avg_read_len\", \"gc_content\", \"A\", \"T\", \"G\", \"C\", \"kmer_CTC\", \"kmer_CGT\", \"kmer_ATT\", \"kmer_GGA\"]]\n",
    "y = df_train[\"label_enc\"]\n",
    "\n",
    "skf = StratifiedKFold(n_splits=5, shuffle=True, random_state=42)\n",
    "\n",
    "fold = 1\n",
    "accuracies = []\n",
    "losses = []\n",
    "\n",
    "for train_index, val_index in skf.split(X, y):\n",
    "    print(f\"\\n Fold {fold}\")\n",
    "\n",
    "    X_train, X_val = X.iloc[train_index], X.iloc[val_index]\n",
    "    y_train, y_val = y.iloc[train_index], y.iloc[val_index]\n",
    "\n",
    "    clf = XGBClassifier(n_estimators=100, random_state=42)\n",
    "    clf.fit(X_train, y_train)\n",
    "\n",
    "    y_pred = clf.predict(X_val)\n",
    "    y_proba = clf.predict_proba(X_val)\n",
    "\n",
    "    accuracy = accuracy_score(y_val, y_pred)\n",
    "    loss = log_loss(y_val, y_proba)\n",
    "\n",
    "    accuracies.append(accuracy)\n",
    "    losses.append(loss)\n",
    "\n",
    "    print(f\"✅ Fold {fold} Accuracy: {accuracy:.4f}\")\n",
    "    print(f\"📉 Fold {fold} Log Loss: {loss:.4f}\")\n",
    "    print(classification_report(y_val, y_pred, target_names=le.classes_))\n",
    "\n",
    "    fold += 1\n",
    "\n",
    "print(f\"\\n📊 Average Accuracy: {np.mean(accuracies):.4f}\")\n",
    "print(f\"📉 Average Log Loss: {np.mean(losses):.4f}\")\n"
   ]
  },
  {
   "cell_type": "code",
   "execution_count": 91,
   "id": "262f24fe",
   "metadata": {},
   "outputs": [
    {
     "data": {
      "image/png": "[encoded data removed]",
      "text/plain": [
       "<Figure size 640x480 with 1 Axes>"
      ]
     },
     "metadata": {},
     "output_type": "display_data"
    }
   ],
   "source": [
    "plot_importance(clf)\n",
    "plt.show()"
   ]
  },
  {
   "cell_type": "markdown",
   "id": "2f5b690a",
   "metadata": {},
   "source": [
    "## Step 8: Process Test Files and Predict"
   ]
  },
  {
   "cell_type": "code",
   "execution_count": 41,
   "id": "dfd30660",
   "metadata": {},
   "outputs": [
    {
     "name": "stderr",
     "output_type": "stream",
     "text": [
      "Processing test files:   5%|▍         | 50/1068 [07:21<3:23:41, 12.01s/it]"
     ]
    },
    {
     "name": "stdout",
     "output_type": "stream",
     "text": [
      "💾 Progress saved at 50 files\n"
     ]
    },
    {
     "name": "stderr",
     "output_type": "stream",
     "text": [
      "Processing test files:   9%|▉         | 100/1068 [14:01<2:22:18,  8.82s/it]"
     ]
    },
    {
     "name": "stdout",
     "output_type": "stream",
     "text": [
      "💾 Progress saved at 100 files\n"
     ]
    },
    {
     "name": "stderr",
     "output_type": "stream",
     "text": [
      "Processing test files:  14%|█▍        | 150/1068 [21:50<1:33:33,  6.12s/it]"
     ]
    },
    {
     "name": "stdout",
     "output_type": "stream",
     "text": [
      "💾 Progress saved at 150 files\n"
     ]
    },
    {
     "name": "stderr",
     "output_type": "stream",
     "text": [
      "Processing test files:  19%|█▊        | 200/1068 [30:58<3:16:30, 13.58s/it]"
     ]
    },
    {
     "name": "stdout",
     "output_type": "stream",
     "text": [
      "💾 Progress saved at 200 files\n"
     ]
    },
    {
     "name": "stderr",
     "output_type": "stream",
     "text": [
      "Processing test files:  23%|██▎       | 250/1068 [36:19<53:08,  3.90s/it]  "
     ]
    },
    {
     "name": "stdout",
     "output_type": "stream",
     "text": [
      "💾 Progress saved at 250 files\n"
     ]
    },
    {
     "name": "stderr",
     "output_type": "stream",
     "text": [
      "Processing test files:  28%|██▊       | 300/1068 [44:54<3:51:50, 18.11s/it]"
     ]
    },
    {
     "name": "stdout",
     "output_type": "stream",
     "text": [
      "💾 Progress saved at 300 files\n"
     ]
    },
    {
     "name": "stderr",
     "output_type": "stream",
     "text": [
      "Processing test files:  33%|███▎      | 351/1068 [54:05<1:02:16,  5.21s/it]"
     ]
    },
    {
     "name": "stdout",
     "output_type": "stream",
     "text": [
      "💾 Progress saved at 350 files\n"
     ]
    },
    {
     "name": "stderr",
     "output_type": "stream",
     "text": [
      "Processing test files:  37%|███▋      | 400/1068 [1:02:35<1:54:06, 10.25s/it]"
     ]
    },
    {
     "name": "stdout",
     "output_type": "stream",
     "text": [
      "💾 Progress saved at 400 files\n"
     ]
    },
    {
     "name": "stderr",
     "output_type": "stream",
     "text": [
      "Processing test files:  42%|████▏     | 450/1068 [1:14:26<55:50,  5.42s/it]   "
     ]
    },
    {
     "name": "stdout",
     "output_type": "stream",
     "text": [
      "💾 Progress saved at 450 files\n"
     ]
    },
    {
     "name": "stderr",
     "output_type": "stream",
     "text": [
      "Processing test files:  47%|████▋     | 500/1068 [1:21:35<1:26:21,  9.12s/it]"
     ]
    },
    {
     "name": "stdout",
     "output_type": "stream",
     "text": [
      "💾 Progress saved at 500 files\n"
     ]
    },
    {
     "name": "stderr",
     "output_type": "stream",
     "text": [
      "Processing test files:  51%|█████▏    | 550/1068 [1:27:20<27:40,  3.21s/it]  "
     ]
    },
    {
     "name": "stdout",
     "output_type": "stream",
     "text": [
      "💾 Progress saved at 550 files\n"
     ]
    },
    {
     "name": "stderr",
     "output_type": "stream",
     "text": [
      "Processing test files:  56%|█████▌    | 600/1068 [1:35:40<48:39,  6.24s/it]  "
     ]
    },
    {
     "name": "stdout",
     "output_type": "stream",
     "text": [
      "💾 Progress saved at 600 files\n"
     ]
    },
    {
     "name": "stderr",
     "output_type": "stream",
     "text": [
      "Processing test files:  61%|██████    | 650/1068 [1:43:35<2:14:22, 19.29s/it]"
     ]
    },
    {
     "name": "stdout",
     "output_type": "stream",
     "text": [
      "💾 Progress saved at 650 files\n"
     ]
    },
    {
     "name": "stderr",
     "output_type": "stream",
     "text": [
      "Processing test files:  66%|██████▌   | 700/1068 [1:51:21<40:10,  6.55s/it]  "
     ]
    },
    {
     "name": "stdout",
     "output_type": "stream",
     "text": [
      "💾 Progress saved at 700 files\n"
     ]
    },
    {
     "name": "stderr",
     "output_type": "stream",
     "text": [
      "Processing test files:  70%|███████   | 750/1068 [1:57:34<1:51:52, 21.11s/it]"
     ]
    },
    {
     "name": "stdout",
     "output_type": "stream",
     "text": [
      "💾 Progress saved at 750 files\n"
     ]
    },
    {
     "name": "stderr",
     "output_type": "stream",
     "text": [
      "Processing test files:  75%|███████▍  | 800/1068 [2:06:10<2:40:42, 35.98s/it]"
     ]
    },
    {
     "name": "stdout",
     "output_type": "stream",
     "text": [
      "💾 Progress saved at 800 files\n"
     ]
    },
    {
     "name": "stderr",
     "output_type": "stream",
     "text": [
      "Processing test files:  80%|███████▉  | 850/1068 [2:13:45<38:58, 10.73s/it]  "
     ]
    },
    {
     "name": "stdout",
     "output_type": "stream",
     "text": [
      "💾 Progress saved at 850 files\n"
     ]
    },
    {
     "name": "stderr",
     "output_type": "stream",
     "text": [
      "Processing test files:  84%|████████▍ | 900/1068 [2:22:36<30:40, 10.96s/it]  "
     ]
    },
    {
     "name": "stdout",
     "output_type": "stream",
     "text": [
      "💾 Progress saved at 900 files\n"
     ]
    },
    {
     "name": "stderr",
     "output_type": "stream",
     "text": [
      "Processing test files:  89%|████████▉ | 950/1068 [2:30:15<08:35,  4.37s/it]"
     ]
    },
    {
     "name": "stdout",
     "output_type": "stream",
     "text": [
      "💾 Progress saved at 950 files\n"
     ]
    },
    {
     "name": "stderr",
     "output_type": "stream",
     "text": [
      "Processing test files:  94%|█████████▎| 1000/1068 [2:39:33<10:06,  8.91s/it]"
     ]
    },
    {
     "name": "stdout",
     "output_type": "stream",
     "text": [
      "💾 Progress saved at 1000 files\n"
     ]
    },
    {
     "name": "stderr",
     "output_type": "stream",
     "text": [
      "Processing test files:  98%|█████████▊| 1050/1068 [2:45:29<01:34,  5.24s/it]"
     ]
    },
    {
     "name": "stdout",
     "output_type": "stream",
     "text": [
      "💾 Progress saved at 1050 files\n"
     ]
    },
    {
     "name": "stderr",
     "output_type": "stream",
     "text": [
      "Processing test files: 100%|██████████| 1068/1068 [2:47:19<00:00,  9.40s/it]\n"
     ]
    },
    {
     "name": "stdout",
     "output_type": "stream",
     "text": [
      "✅ Test feature extraction complete and saved to: test_features.csv\n"
     ]
    }
   ],
   "source": [
    "# Define inputs\n",
    "feature_cols = X.columns.tolist()\n",
    "test_dir = os.path.join(os.getcwd(), \"FastqTest\")\n",
    "output_csv = \"test_features.csv\"\n",
    "\n",
    "# Load previously saved features (for resume)\n",
    "test_features = []\n",
    "if os.path.exists(output_csv):\n",
    "    df_existing = pd.read_csv(output_csv)\n",
    "    test_features = df_existing.to_dict(\"records\")\n",
    "    processed_files = set(f[\"filename\"] for f in test_features)\n",
    "    print(f\"✅ Resuming from {len(processed_files)} previously processed test files.\")\n",
    "else:\n",
    "    processed_files = set()\n",
    "\n",
    "# Process test files\n",
    "all_files = [f for f in os.listdir(test_dir) if f.endswith(\".fastq\")]\n",
    "for fname in tqdm(all_files, desc=\"Processing test files\", total=len(all_files)):\n",
    "    base_name = os.path.splitext(fname)[0]\n",
    "\n",
    "    if base_name in processed_files:\n",
    "        continue  # ✅ Skip already processed files\n",
    "\n",
    "    fpath = os.path.join(test_dir, fname)\n",
    "    if not os.path.exists(fpath):\n",
    "        print(f\"⚠️ File not found: {fpath}\")\n",
    "        continue\n",
    "\n",
    "    try:\n",
    "        features = extract_features_from_fastq(fpath, k=3)\n",
    "    except Exception as e:\n",
    "        print(f\"❌ Error processing {fname}: {e}\")\n",
    "        continue\n",
    "\n",
    "    if features:\n",
    "        # Ensure all expected features are included\n",
    "        for col in feature_cols:\n",
    "            if col not in features:\n",
    "                features[col] = 0.0\n",
    "\n",
    "        # Retain only expected features\n",
    "        features = {col: features[col] for col in feature_cols}\n",
    "        features[\"filename\"] = base_name\n",
    "        test_features.append(features)\n",
    "\n",
    "    # Save progress every 50 files\n",
    "    if len(test_features) % 50 == 0:\n",
    "        pd.DataFrame(test_features).to_csv(output_csv, index=False)\n",
    "        print(f\"💾 Progress saved at {len(test_features)} files\")\n",
    "\n",
    "# Final save\n",
    "df_test = pd.DataFrame(test_features)\n",
    "df_test.to_csv(output_csv, index=False)\n",
    "print(\"✅ Test feature extraction complete and saved to:\", output_csv)\n"
   ]
  },
  {
   "cell_type": "code",
   "execution_count": 11,
   "id": "a2ebcbca",
   "metadata": {},
   "outputs": [
    {
     "name": "stdout",
     "output_type": "stream",
     "text": [
      "Test features: ['num_reads', 'avg_read_len', 'gc_content', 'A', 'T', 'G', 'C', 'kmer_GGA', 'kmer_GAT', 'kmer_ATG', 'kmer_TGA', 'kmer_GAA', 'kmer_AAC', 'kmer_ACG', 'kmer_CGC', 'kmer_GCT', 'kmer_CTA', 'kmer_TAG', 'kmer_AGC', 'kmer_TAC', 'kmer_ACA', 'kmer_CAG', 'kmer_AGG', 'kmer_GGC', 'kmer_CTT', 'kmer_TTA', 'kmer_TAA', 'kmer_CAC', 'kmer_CAT', 'kmer_TGC', 'kmer_GCA', 'kmer_CAA', 'kmer_AAG', 'kmer_AGT', 'kmer_GTC', 'kmer_TCG', 'kmer_CGA', 'kmer_GAG', 'kmer_GGG', 'kmer_AAA', 'kmer_GAC', 'kmer_ATC', 'kmer_TTG', 'kmer_TTT', 'kmer_TGG', 'kmer_GCG', 'kmer_CGT', 'kmer_ACC', 'kmer_CCG', 'kmer_CGG', 'kmer_GGT', 'kmer_GTG', 'kmer_GTA', 'kmer_TAT', 'kmer_TCC', 'kmer_CCA', 'kmer_CCT', 'kmer_CTG', 'kmer_GCC', 'kmer_CCC', 'kmer_ACT', 'kmer_ATA', 'kmer_AGA', 'kmer_AAT', 'kmer_TCT', 'kmer_CTC', 'kmer_ATT', 'kmer_TGT', 'kmer_GTT', 'kmer_TCA', 'kmer_TTC', 'filename']\n",
      "Train features: ['num_reads', 'avg_read_len', 'gc_content', 'A', 'T', 'G', 'C', 'kmer_GGA', 'kmer_GAT', 'kmer_ATG', 'kmer_TGA', 'kmer_GAA', 'kmer_AAC', 'kmer_ACG', 'kmer_CGC', 'kmer_GCT', 'kmer_CTA', 'kmer_TAG', 'kmer_AGC', 'kmer_TAC', 'kmer_ACA', 'kmer_CAG', 'kmer_AGG', 'kmer_GGC', 'kmer_CTT', 'kmer_TTA', 'kmer_TAA', 'kmer_CAC', 'kmer_CAT', 'kmer_TGC', 'kmer_GCA', 'kmer_CAA', 'kmer_AAG', 'kmer_AGT', 'kmer_GTC', 'kmer_TCG', 'kmer_CGA', 'kmer_GAG', 'kmer_GGG', 'kmer_AAA', 'kmer_GAC', 'kmer_ATC', 'kmer_TTG', 'kmer_TTT', 'kmer_TGG', 'kmer_GCG', 'kmer_CGT', 'kmer_ACC', 'kmer_CCG', 'kmer_CGG', 'kmer_GGT', 'kmer_GTG', 'kmer_GTA', 'kmer_TAT', 'kmer_TCC', 'kmer_CCA', 'kmer_CCT', 'kmer_CTG', 'kmer_GCC', 'kmer_CCC', 'kmer_ACT', 'kmer_ATA', 'kmer_AGA', 'kmer_AAT', 'kmer_TCT', 'kmer_CTC', 'kmer_ATT', 'kmer_TGT', 'kmer_GTT', 'kmer_TCA', 'kmer_TTC']\n"
     ]
    }
   ],
   "source": [
    "df_test = pd.read_csv(\"test_features.csv\")\n",
    "print(\"Test features:\", df_test.columns.tolist())\n",
    "print(\"Train features:\", X.columns.tolist())"
   ]
  },
  {
   "cell_type": "code",
   "execution_count": 92,
   "id": "12738595",
   "metadata": {},
   "outputs": [],
   "source": [
    "X_test = df_test[['num_reads',\n",
    " 'avg_read_len',\n",
    " 'gc_content',\n",
    " 'A',\n",
    " 'T',\n",
    " 'G',\n",
    " 'C', \"kmer_CTC\", \"kmer_CGT\", \"kmer_ATT\", \"kmer_GGA\"]]\n",
    "probs = clf.predict_proba(X_test)"
   ]
  },
  {
   "cell_type": "markdown",
   "id": "3b96536b",
   "metadata": {},
   "source": [
    "## Step 9: Create Submission File"
   ]
  },
  {
   "cell_type": "code",
   "execution_count": 93,
   "id": "ad342b96",
   "metadata": {},
   "outputs": [],
   "source": [
    "probs_df = pd.DataFrame(probs, columns=le.inverse_transform(clf.classes_))\n",
    "probs_df.insert(0, \"filename\", df_test[\"filename\"])\n",
    "\n",
    "# Ensure all columns exist\n",
    "for col in [\"Mouth\", \"Nasal\", \"Skin\", \"Stool\"]:\n",
    "    if col not in probs_df.columns:\n",
    "        probs_df[col] = 0.0\n",
    "\n",
    "# Ordering\n",
    "probs_df = probs_df[[\"filename\", \"Mouth\", \"Nasal\", \"Skin\", \"Stool\"]]\n",
    "probs_df.to_csv(\"submission.csv\", index=False)"
   ]
  }
 ],
 "metadata": {
  "kernelspec": {
   "display_name": "base",
   "language": "python",
   "name": "python3"
  },
  "language_info": {
   "codemirror_mode": {
    "name": "ipython",
    "version": 3
   },
   "file_extension": ".py",
   "mimetype": "text/x-python",
   "name": "python",
   "nbconvert_exporter": "python",
   "pygments_lexer": "ipython3",
   "version": "3.11.9"
  }
 },
 "nbformat": 4,
 "nbformat_minor": 5
}
