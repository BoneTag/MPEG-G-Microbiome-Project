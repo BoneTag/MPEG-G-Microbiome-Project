{
 "cells": [
  {
   "cell_type": "markdown",
   "id": "2ecf1960",
   "metadata": {},
   "source": [
    "## Step 1: Setup and Imports"
   ]
  },
  {
   "cell_type": "code",
   "execution_count": 2,
   "id": "4fb624ac",
   "metadata": {},
   "outputs": [],
   "source": [
    "# Import packages\n",
    "import os\n",
    "import zipfile\n",
    "import subprocess\n",
    "import random\n",
    "import pandas as pd\n",
    "import numpy as np\n",
    "import matplotlib.pyplot as plt\n",
    "import shutil\n",
    "from tqdm import tqdm\n",
    "\n",
    "\n",
    "from Bio import SeqIO\n",
    "from collections import Counter\n",
    "\n",
    "from sklearn.ensemble import RandomForestClassifier\n",
    "from sklearn.model_selection import train_test_split\n",
    "from sklearn.preprocessing import LabelEncoder\n",
    "from sklearn.metrics import classification_report\n",
    "\n",
    "# Errors ignore\n",
    "import warnings\n",
    "warnings.filterwarnings('ignore')"
   ]
  },
  {
   "cell_type": "markdown",
   "id": "19f6e277",
   "metadata": {},
   "source": [
    "## Step 2: Extract Zip Files"
   ]
  },
  {
   "cell_type": "code",
   "execution_count": null,
   "id": "b1887813",
   "metadata": {},
   "outputs": [
    {
     "name": "stderr",
     "output_type": "stream",
     "text": [
      "Extracting Files:   0%|          | 0/2 [00:00<?, ?it/s]"
     ]
    },
    {
     "name": "stderr",
     "output_type": "stream",
     "text": [
      "Extracting Files:  50%|█████     | 1/2 [07:53<07:53, 473.81s/it]"
     ]
    },
    {
     "name": "stdout",
     "output_type": "stream",
     "text": [
      "Extracted TrainFiles.zip to ./ .//\n"
     ]
    },
    {
     "name": "stderr",
     "output_type": "stream",
     "text": [
      "Extracting Files: 100%|██████████| 2/2 [09:54<00:00, 297.31s/it]"
     ]
    },
    {
     "name": "stdout",
     "output_type": "stream",
     "text": [
      "Extracted TestFiles.zip to ./ .//\n"
     ]
    },
    {
     "name": "stderr",
     "output_type": "stream",
     "text": [
      "\n"
     ]
    }
   ],
   "source": [
    "# Define paths to zip files and output files\n",
    "\n",
    "zip_files = {'TrainFiles.zip': './',\n",
    "             'TestFiles.zip': './'}\n",
    "\n",
    "for zip_path, output_path in tqdm(zip_files.items(), desc=\"Extracting Files\"):\n",
    "    os.makedirs(output_path, exist_ok=True)\n",
    "    with zipfile.ZipFile(zip_path, 'r') as zip_ref:\n",
    "        zip_ref.extractall(output_path)\n",
    "        print(f\"Extracted {zip_path} to ./ {output_path}/\")\n"
   ]
  },
  {
   "cell_type": "markdown",
   "id": "deb30219",
   "metadata": {},
   "source": [
    "## Step 3: Decoding of Files\n",
    "### Decode a single file first and then all .mgb files to fastq files"
   ]
  },
  {
   "cell_type": "code",
   "execution_count": null,
   "id": "fb0a11e6",
   "metadata": {},
   "outputs": [],
   "source": [
    "# Try one mgb file from the TrainFiles\n",
    "\n",
    "mgb_filename = 'ID_ABOEMW.mgb'\n",
    "mgb_filename_without_ext = mgb_filename[:-4]\n",
    "train_dir = os.path.join(os.getcwd(), \"TrainFiles\")\n",
    "mgb_file_path = os.path.join(train_dir, mgb_filename)\n",
    "\n",
    "fastq_dir = os.path.join(os.getcwd(), \"FastqTrain\")\n",
    "os.makedirs(fastq_dir, exist_ok=True)  # make sure folder exists\n",
    "#Output fastq file\n",
    "output_fastq = os.path.join(fastq_dir, f\"{mgb_filename_without_ext}.fastq\")\n",
    "\n",
    "container_dir = \"/data\"\n",
    "\n",
    "def inspect_mgb_structure(host_dir=\".\", container_dir=\"/work\", mgb_filename=mgb_filename):\n",
    "    command = [\n",
    "    \"docker\", \"run\", \"--rm\",\n",
    "    \"-v\", f\"{train_dir}:/input\",\n",
    "    \"-v\", f\"{fastq_dir}:/output\",\n",
    "    \"muefab/genie:latest\", \"run\", \n",
    "    \"-f\",\n",
    "    \"-i\", f\"/input/{mgb_filename}\",\n",
    "    \"-o\", f\"/output/{mgb_filename_without_ext}.fastq\"\n",
    "    ]\n",
    "\n",
    "    print(\"Running Genie\")\n",
    "    print(\" \".join(command))\n",
    "\n",
    "    result = subprocess.run(command, capture_output=True, text=True)\n",
    "\n",
    "    if result.stdout:\n",
    "        print(\"\\n STDOUT:\\n\", result.stdout)\n",
    "    \n",
    "    if result.stderr:\n",
    "        print(\"\\n STDERR:\\n\", result.stderr)\n",
    "\n",
    "inspect_mgb_structure()\n",
    "\n"
   ]
  },
  {
   "cell_type": "code",
   "execution_count": null,
   "id": "e9785462",
   "metadata": {},
   "outputs": [],
   "source": [
    "\n",
    "fastq_path = os.path.join(os.getcwd(), fastq_dir, f\"{mgb_filename_without_ext}.fastq\")\n",
    "\n",
    "# Check if the file exists\n",
    "if not os.path.exists(fastq_path):\n",
    "    print(\"Fastq file not found\")\n",
    "else:\n",
    "    total_reads = 0\n",
    "    read_lengths = []\n",
    "    quality_scores = []\n",
    "\n",
    "    for record in SeqIO.parse(fastq_path, \"fastq\"):\n",
    "        total_reads += 1\n",
    "        read_lengths.append(len(record.seq))\n",
    "        quality_scores.extend(record.letter_annotations[\"phred_quality\"])\n",
    "\n",
    "    print(f\"🔍 Total reads: {total_reads}\")\n",
    "    print(f\"📏 Avg read length: {sum(read_lengths)/len(read_lengths):.1f} bp\")\n",
    "    print(f\"🎯 Avg quality score: {sum(quality_scores)/len(quality_scores):.1f}\")\n",
    "\n"
   ]
  },
  {
   "cell_type": "code",
   "execution_count": null,
   "id": "d4575d9b",
   "metadata": {},
   "outputs": [],
   "source": [
    "# View first 4 reads\n",
    "\n",
    "for i, record in enumerate(SeqIO.parse(fastq_path, \"fastq\")):\n",
    "    print(f\"ID: {record.id}\")\n",
    "    print(f\"SEQ {record.seq[:60]}\")\n",
    "    print(f\"Quality: {record.letter_annotations['phred_quality'][:20]}...\\n\")\n",
    "\n",
    "    if i >=3:\n",
    "        break\n"
   ]
  },
  {
   "cell_type": "code",
   "execution_count": null,
   "id": "b0261c65",
   "metadata": {},
   "outputs": [],
   "source": [
    "\n",
    "# Function to decode all .mgb files to fastq files\n",
    "notebook_dir = os.getcwd()\n",
    "\n",
    "def decode_all_mgb_files(source_folder, destination_folder):\n",
    "    host_dir = os.path.join(notebook_dir, source_folder)\n",
    "    fastq_dir = os.path.join(notebook_dir, destination_folder)\n",
    "    os.makedirs(fastq_dir, exist_ok=True)\n",
    "\n",
    "    if not os.path.isdir(host_dir):\n",
    "        print(f\"Error: Source folder '{host_dir}' does not exist or is not a directory.\")\n",
    "        return # Exit the function if source folder is invalid\n",
    "\n",
    "    for mgb_filename in tqdm(os.listdir(host_dir), desc=\"Decoding files...\"):\n",
    "        name, ext = os.path.splitext(mgb_filename)\n",
    "\n",
    "        if ext.lower() != \".mgb\":\n",
    "            continue\n",
    "\n",
    "        #mgb_filename_without_ext = os.path.splitext(mgb_filename)[0]\n",
    "\n",
    "        output_fastq_path = os.path.join(fastq_dir, f\"{name}.fastq\")\n",
    "\n",
    "        if os.path.exists(output_fastq_path):\n",
    "            print(f\"Skipping {mgb_filename} already decoded\")\n",
    "            continue\n",
    "\n",
    "        command = [\n",
    "            \"docker\", \"run\", \"--rm\",\n",
    "            \"-v\", f\"{host_dir}:/input\",\n",
    "            \"-v\", f\"{fastq_dir}:/output\",\n",
    "            \"muefab/genie:latest\", \"run\", \n",
    "            \"-f\",\n",
    "            \"-i\", f\"/input/{mgb_filename}\",\n",
    "            \"-o\", f\"/output/{name}.fastq\"\n",
    "        ]\n",
    "\n",
    "        print(\"Running command:\", \" \".join(command))\n",
    "        result = subprocess.run(command, capture_output=True, text=True)\n",
    "\n",
    "        if result.returncode != 0:\n",
    "            print(f\"Failed to decode {mgb_filename}\")\n",
    "            print(f\"STDOUT {result.stdout}\")\n",
    "            print(f\"STDERR {result.stderr}\")"
   ]
  },
  {
   "cell_type": "code",
   "execution_count": null,
   "id": "0339f28d",
   "metadata": {},
   "outputs": [],
   "source": [
    "decode_all_mgb_files(\"TrainFiles\", \"FastqTrain\")"
   ]
  },
  {
   "cell_type": "code",
   "execution_count": null,
   "id": "bed10ff8",
   "metadata": {},
   "outputs": [],
   "source": [
    "decode_all_mgb_files(\"TestFiles\", \"FastqTest\")"
   ]
  },
  {
   "cell_type": "code",
   "execution_count": null,
   "id": "cb46a034",
   "metadata": {},
   "outputs": [],
   "source": [
    "#full_train_df = train_df.merge(subjects_df, how='left', on='SubjectID')\n",
    "#full_train_df.head(50)"
   ]
  },
  {
   "cell_type": "code",
   "execution_count": null,
   "id": "1aa78056",
   "metadata": {},
   "outputs": [
    {
     "name": "stderr",
     "output_type": "stream",
     "text": [
      "Processing files...: 100%|██████████| 2901/2901 [4:18:45<00:00,  5.35s/it]    \n"
     ]
    },
    {
     "ename": "",
     "evalue": "",
     "output_type": "error",
     "traceback": [
      "\u001b[1;31mThe Kernel crashed while executing code in the current cell or a previous cell. \n",
      "\u001b[1;31mPlease review the code in the cell(s) to identify a possible cause of the failure. \n",
      "\u001b[1;31mClick <a href='https://aka.ms/vscodeJupyterKernelCrash'>here</a> for more info. \n",
      "\u001b[1;31mView Jupyter <a href='command:jupyter.viewOutput'>log</a> for further details."
     ]
    }
   ],
   "source": [
    "fastq_dir = os.getcwd() + \"/FastqTrain\"\n",
    "all_stats = []\n",
    "\n",
    "for fname in tqdm(os.listdir(fastq_dir), desc=\"Processing files...\"):\n",
    "    if not fname.endswith(\".fastq\"):\n",
    "        continue\n",
    "    file_path = os.path.join(fastq_dir, fname)\n",
    "    read_lengths = []\n",
    "    gc_counts = []\n",
    "    nt_counts = Counter()\n",
    "\n",
    "    for record in SeqIO.parse(file_path, \"fastq\"):\n",
    "        seq = str(record.seq)\n",
    "        read_lengths.append(len(seq))\n",
    "        gc_counts.append(seq.count(\"G\") + seq.count(\"C\"))\n",
    "        nt_counts.update(seq)\n",
    "\n",
    "    if read_lengths:\n",
    "        stats = {\n",
    "            \"file\": fname,\n",
    "            \"num_reads\": len(read_lengths),\n",
    "            \"avg_read_length\": sum(read_lengths) / len(read_lengths),\n",
    "            \"avg_gc_content\": sum(gc_counts) / sum(read_lengths),\n",
    "            \"A\": nt_counts[\"A\"],\n",
    "            \"T\": nt_counts[\"T\"],\n",
    "            \"G\": nt_counts[\"G\"],\n",
    "            \"C\": nt_counts[\"C\"]\n",
    "\n",
    "        }\n",
    "\n",
    "        all_stats.append(stats)\n",
    "\n",
    "    # Convert to Dataframe\n",
    "df = pd.DataFrame(all_stats)\n"
   ]
  },
  {
   "cell_type": "code",
   "execution_count": 1,
   "id": "a8bb8294",
   "metadata": {},
   "outputs": [
    {
     "ename": "NameError",
     "evalue": "name 'df' is not defined",
     "output_type": "error",
     "traceback": [
      "\u001b[1;31m---------------------------------------------------------------------------\u001b[0m",
      "\u001b[1;31mNameError\u001b[0m                                 Traceback (most recent call last)",
      "Cell \u001b[1;32mIn[1], line 2\u001b[0m\n\u001b[0;32m      1\u001b[0m \u001b[38;5;66;03m#df[\"filename\"] = df[\"file\"].str.replace(\".fastq\", \"\", regex=False)\u001b[39;00m\n\u001b[1;32m----> 2\u001b[0m df\u001b[38;5;241m.\u001b[39mhead()\n",
      "\u001b[1;31mNameError\u001b[0m: name 'df' is not defined"
     ]
    }
   ],
   "source": [
    "#df[\"filename\"] = df[\"file\"].str.replace(\".fastq\", \"\", regex=False)\n",
    "df.head()"
   ]
  }
 ],
 "metadata": {
  "kernelspec": {
   "display_name": "base",
   "language": "python",
   "name": "python3"
  },
  "language_info": {
   "codemirror_mode": {
    "name": "ipython",
    "version": 3
   },
   "file_extension": ".py",
   "mimetype": "text/x-python",
   "name": "python",
   "nbconvert_exporter": "python",
   "pygments_lexer": "ipython3",
   "version": "3.11.9"
  }
 },
 "nbformat": 4,
 "nbformat_minor": 5
}
